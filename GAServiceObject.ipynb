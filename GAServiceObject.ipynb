{
 "cells": [
  {
   "cell_type": "code",
   "execution_count": null,
   "metadata": {},
   "outputs": [],
   "source": [
    "#LIBRARIES#\n",
    "#The method to build the service object\n",
    "from googleapiclient.discovery import build\n",
    "\n",
    "#Has method for creating credentials object that gets used by the service\n",
    "from oauth2client.service_account import ServiceAccountCredentials\n",
    "\n",
    "#CREDENTIALS OBJECT#\n",
    "#Relevant inputs\n",
    "file_location = 'service_account.json'\n",
    "scopes = ['https://www.googleapis.com/auth/analytics.readonly','https://www.googleapis.com/auth/analytics.edit']\n",
    "\n",
    "#Building a credentials object\n",
    "credentials = ServiceAccountCredentials.from_json_keyfile_name(file_location, scopes = scopes)\n",
    "\n",
    "#SERVICE OBJECT#\n",
    "#Relevant inputs\n",
    "service_name = 'analytics'\n",
    "api_version = 'v3'\n",
    "\n",
    "#Build the service object\n",
    "service = build(service_name, api_version, credentials = credentials)\n",
    "\n",
    "#ACCOUNT SUMMARY#\n",
    "#Get account summary from the service object using the list method\n",
    "account_summary = service.management().accountSummaries().list().execute().get('items')\n",
    "\n",
    "type(account_summary)\n",
    "\n",
    "account_summary"
   ]
  },
  {
   "cell_type": "code",
   "execution_count": null,
   "metadata": {},
   "outputs": [],
   "source": [
    "#Make lists out of the necessary inputs for custom dimension creation\n",
    "account_ids = []\n",
    "\n",
    "for i in range(len(account_summary)):\n",
    "    account_ids.append(account_summary[i].get('id'))\n",
    "    for i in \n",
    "\n",
    "account_ids"
   ]
  }
 ],
 "metadata": {
  "kernelspec": {
   "display_name": "Python 3",
   "language": "python",
   "name": "python3"
  },
  "language_info": {
   "codemirror_mode": {
    "name": "ipython",
    "version": 3
   },
   "file_extension": ".py",
   "mimetype": "text/x-python",
   "name": "python",
   "nbconvert_exporter": "python",
   "pygments_lexer": "ipython3",
   "version": "3.6.4"
  }
 },
 "nbformat": 4,
 "nbformat_minor": 2
}
